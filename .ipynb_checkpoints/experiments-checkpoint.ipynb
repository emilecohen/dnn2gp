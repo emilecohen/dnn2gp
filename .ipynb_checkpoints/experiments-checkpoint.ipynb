{
 "cells": [
  {
   "cell_type": "markdown",
   "metadata": {},
   "source": [
    "# Experiments on Approximate Inference Turns DeepNetworks into Gaussian Processes \n",
    "### Khan,  Mohammad Emtiyaz / Immer,  Alexander / Abedi,  Ehsan / Korzepa,  Maciej(2019):Approximate inference turns deep networks into gaussian processes."
   ]
  },
  {
   "cell_type": "code",
   "execution_count": 111,
   "metadata": {
    "ExecuteTime": {
     "end_time": "2021-03-19T00:37:19.586554Z",
     "start_time": "2021-03-19T00:37:19.574371Z"
    }
   },
   "outputs": [],
   "source": [
    "# Common imports\n",
    "import os\n",
    "import seaborn as sns\n",
    "import brewer2mpl\n",
    "import matplotlib.pyplot as plt\n",
    "import numpy as np\n",
    "import pickle\n",
    "from tqdm import tqdm\n",
    "from itertools import repeat\n",
    "from sklearn.metrics import mean_squared_error\n",
    "from sklearn.preprocessing import StandardScaler\n",
    "import multiprocess as mp\n",
    "from multiprocess import Pool\n",
    "\n",
    "# Imports from https://github.com/team-approx-bayes/dnn2gp\n",
    "from dnn2gp.laplace_models import NeuralNetworkRegression\n",
    "from dnn2gp.dual_models import DualGPRegression\n",
    "from dnn2gp.dual_models import DualGPRegression\n",
    "from dnn2gp.variational_models import VariationalNeuralRegression\n",
    "\n",
    "# Imports from https://github.com/emtiyaz/vadam\n",
    "import vadam\n",
    "from vadam.datasets import Dataset"
   ]
  },
  {
   "cell_type": "markdown",
   "metadata": {},
   "source": [
    "## Samples generated with higher variance"
   ]
  },
  {
   "cell_type": "markdown",
   "metadata": {},
   "source": [
    "The following plots show that the  GP marginal likelihood is very similar for training data obtained with both, Laplace and VI approximations, and its evolution is close to the test loss behavior. As opposed to the results shown in Figure 5 of the article, the chosen hyperparameters are not exactly equal to the ones according to the test-loss. But they still give low test error, whereas the train MSE overfits as $\\delta$ is reduced."
   ]
  },
  {
   "cell_type": "markdown",
   "metadata": {},
   "source": [
    "### Results"
   ]
  },
  {
   "cell_type": "code",
   "execution_count": 117,
   "metadata": {
    "ExecuteTime": {
     "end_time": "2021-03-19T00:40:52.172574Z",
     "start_time": "2021-03-19T00:40:51.594013Z"
    },
    "collapsed": true
   },
   "outputs": [
    {
     "name": "stdout",
     "output_type": "stream",
     "text": [
      "Traceback (most recent call last):\r\n",
      "  File \"marglik.py\", line 1, in <module>\r\n",
      "    import numpy as np\r\n",
      "ModuleNotFoundError: No module named 'numpy'\r\n"
     ]
    }
   ],
   "source": [
    "!python3 marglik.py --name newtoy --sigma_hi 2 --sigma_lo 0.3 "
   ]
  },
  {
   "cell_type": "markdown",
   "metadata": {},
   "source": [
    "### Plots"
   ]
  },
  {
   "cell_type": "code",
   "execution_count": 118,
   "metadata": {
    "ExecuteTime": {
     "end_time": "2021-03-19T00:44:42.583115Z",
     "start_time": "2021-03-19T00:44:42.464350Z"
    }
   },
   "outputs": [],
   "source": [
    "plt.style.use('seaborn-white')\n",
    "sns.set_style('whitegrid')\n",
    "plt.rcParams['font.size'] = 16\n",
    "plt.rcParams['font.style'] = 'normal'\n",
    "plt.rcParams['font.family'] = 'sans-serif'\n",
    "#plt.rc('text', usetex=True)\n",
    "bmap = brewer2mpl.get_map('Set1', 'qualitative', 6)\n",
    "colors = bmap.mpl_colors\n",
    "\n",
    "vlap = colors[1]\n",
    "clap = colors[0]\n",
    "test = 'black'\n",
    "train = 'darkgray'\n",
    "\n",
    "def produce_paper_toy_plots(name):\n",
    "    with open('results/reg_ms_delta_{name}.pkl'.format(name=name), 'rb') as f:\n",
    "        res = pickle.load(f)\n",
    "\n",
    "\n",
    "    mlhs = np.array([res['results'][i]['mlh'] for i in range(len(res['params']))])\n",
    "    vimlhs = np.array([res['results'][i]['convimlh'] for i in range(len(res['params']))])\n",
    "    testvi = np.array([res['results'][i]['test_loss_vi'] for i in range(len(res['params']))])\n",
    "    testmap = np.array([res['results'][i]['test_loss_map'] for i in range(len(res['params']))])\n",
    "    trainvi = np.array([res['results'][i]['train_loss_vi'] for i in range(len(res['params']))])\n",
    "    trainmap = np.array([res['results'][i]['train_loss_map'] for i in range(len(res['params']))])\n",
    "    n = len(res['datasets'])\n",
    "    div = np.sqrt(n)\n",
    "    deltas = np.array(res['params'])\n",
    "\n",
    "    '''Marginal likelihood according to Laplace Theorem (1)'''\n",
    "    fig, ax1 = plt.subplots(figsize=(4.9, 4))\n",
    "    ax1.set_xscale('log')\n",
    "    ylim = [0.05, 1]\n",
    "    xlim = [1e-2, 1e2]\n",
    "\n",
    "    ax1.plot(deltas, trainmap.mean(axis=1), label='train loss', linestyle='--', c=train, zorder=1)\n",
    "    ax1.plot(deltas, testmap.mean(axis=1), label='test loss', linestyle='-', c=test, zorder=1)\n",
    "    testlosses = testmap.mean(axis=1)\n",
    "\n",
    "    m, s = trainmap.mean(axis=1), trainmap.std(axis=1)/div\n",
    "    ax1.fill_between(deltas, m-s, m+s, color='gray', alpha=0.15)\n",
    "    m, s = testmap.mean(axis=1), testmap.std(axis=1)/div\n",
    "    ax1.fill_between(deltas, m-s, m+s, color='gray', alpha=0.15)\n",
    "    ax1.legend(loc=(0.10, 0.78))\n",
    "    ax1.set_ylabel('MSE')\n",
    "    ax1.set_ylim(ylim)\n",
    "    ax1.set_xlabel('hyperparameter $\\delta$')\n",
    "    ax1.set_xlim(xlim)\n",
    "    ax1.set_yticks([0.1, 0.2, 0.3])\n",
    "\n",
    "    ax2 = ax1.twinx()\n",
    "    ylim = [107, 143]\n",
    "\n",
    "    ax2.plot(deltas, -mlhs.mean(axis=1), color=clap, label='Train MargLik', linewidth=3, zorder=1)\n",
    "    m, s = -mlhs.mean(axis=1), -mlhs.std(axis=1)/div\n",
    "    ax2.fill_between(deltas, m-s, m+s, color=clap, alpha=0.15)\n",
    "    lhss = -mlhs.mean(axis=1)\n",
    "    ax2.grid(False)\n",
    "\n",
    "    ax1.scatter([deltas[np.argmin(testlosses)]], [np.min(testlosses)], c='black', marker='*', linewidth=4, zorder=2)\n",
    "    ax2.scatter([deltas[np.argmin(lhss)]], [np.min(lhss)], c='black', marker='*', linewidth=4, zorder=2)\n",
    "\n",
    "    ax2.legend(loc=(0.10, 0.67))\n",
    "    ax2.set_ylabel('-log marginal likelihood')\n",
    "    ax2.yaxis.tick_right()\n",
    "    ax2.yaxis.set_label_position(\"right\")\n",
    "    ax2.set_xscale('log')\n",
    "    ax2.set_ylim(ylim)\n",
    "    plt.tight_layout()\n",
    "    plt.savefig('figures/marglik_delta_newtoy_laplace.pdf')\n",
    "\n",
    "    '''Marginal likelihood according to VI Theorem (2)'''\n",
    "    fig, ax1 = plt.subplots(figsize=(4.9, 4))\n",
    "    ax1.set_xscale('log')\n",
    "    ylim = [0.05, 1]\n",
    "    xlim = [1e-2, 1e2]\n",
    "    ax1.plot(deltas, trainvi.mean(axis=1), label='train loss', linestyle='--', c=train, zorder=1)\n",
    "    ax1.plot(deltas, testvi.mean(axis=1), label='test loss', linestyle='-', c=test, zorder=1)\n",
    "    testlosses = testvi.mean(axis=1)\n",
    "    m, s = trainvi.mean(axis=1), trainvi.std(axis=1)/div\n",
    "    ax1.fill_between(deltas, m-s, m+s, color='gray', alpha=0.15)\n",
    "    m, s = testvi.mean(axis=1), testmap.std(axis=1)/div\n",
    "    ax1.fill_between(deltas, m-s, m+s, color='gray', alpha=0.15)\n",
    "    ax1.legend(loc=(0.09, 0.78))\n",
    "    ax1.set_ylabel('MSE')\n",
    "    ax1.set_ylim(ylim)\n",
    "    ax1.set_xlabel('hyperparameter $\\delta$')\n",
    "    ax1.set_xlim(xlim)\n",
    "    ax1.set_yticks([0.1, 0.2, 0.3, 0.4])\n",
    "    ax2 = ax1.twinx()\n",
    "    ylim = [107, 143]\n",
    "\n",
    "    ax2.plot(deltas, -vimlhs.mean(axis=1), color=vlap, label='Train MargLik', linewidth=3, zorder=1)\n",
    "    m, s = -vimlhs.mean(axis=1), -mlhs.std(axis=1)/div\n",
    "    ax2.fill_between(deltas, m-s, m+s, color=vlap, alpha=0.15)\n",
    "    lhss = -vimlhs.mean(axis=1)\n",
    "    ax2.grid(False)\n",
    "\n",
    "    ax1.scatter([deltas[np.argmin(testlosses)]], [np.min(testlosses)], c='black', marker='*', linewidth=4, zorder=2)\n",
    "    ax2.scatter([deltas[np.argmin(lhss)]], [np.min(lhss)], c='black', marker='*', linewidth=4, zorder=2)\n",
    "\n",
    "    ax2.legend(loc=(0.09, 0.67))\n",
    "    ax2.set_ylabel('-log marginal likelihood')\n",
    "    ax2.yaxis.tick_right()\n",
    "    ax2.yaxis.set_label_position(\"right\")\n",
    "    ax2.set_xscale('log')\n",
    "    ax2.set_ylim(ylim)\n",
    "    plt.tight_layout()\n",
    "    plt.savefig('figures/marglik_delta_newtoy_VI.pdf')\n",
    "\n",
    "\n",
    "    '''Fits to the data with various deltas for insight on the type of fit.'''\n",
    "    ixs = [0, 9, -4]\n",
    "    x, y = res['datasets'][0]['x'], res['datasets'][0]['y']\n",
    "    xt, yt = res['datasets'][0]['x_train'], res['datasets'][0]['y_train']\n",
    "    fig, axs = plt.subplots(3, 1, figsize=(4, 4), sharex=True)\n",
    "\n",
    "    ax, i = axs[0], ixs[0]\n",
    "    ax.scatter(xt[:, 0], yt, alpha=0.2, color='black')\n",
    "    fm, fstd = res['results'][i]['fits'][0]['map'], res['results'][i]['fits'][0]['gpcov']\n",
    "    ax.plot(x[:, 0], fm, label='Laplace-GP', color=clap)\n",
    "    ax.fill_between(x[:, 0], fm+fstd, fm-fstd, alpha=0.3, color=clap)\n",
    "    ax.annotate('$\\delta={delta:.2f}$'.format(delta=deltas[i]), xy=(-2.5, 1))\n",
    "\n",
    "    ax, i = axs[1], ixs[1]\n",
    "    ax.set_ylabel('y')\n",
    "    ax.scatter(xt[:, 0], yt, alpha=0.2, color='black')\n",
    "    fm, fstd = res['results'][i]['fits'][0]['map'], res['results'][i]['fits'][0]['gpcov']\n",
    "    ax.plot(x[:, 0], fm, label='MAP', color=clap)\n",
    "    ax.fill_between(x[:, 0], fm+fstd, fm-fstd, alpha=0.3, color=clap)\n",
    "    ax.annotate('$\\delta={delta:.2f}$'.format(delta=deltas[i]), xy=(-2.5, 1))\n",
    "\n",
    "\n",
    "    ax, i = axs[2], ixs[2]\n",
    "    ax.scatter(xt[:, 0], yt, alpha=0.2, color='black')\n",
    "    fm, fstd = res['results'][i]['fits'][0]['map'], res['results'][i]['fits'][0]['gpcov']\n",
    "    ax.plot(x[:, 0], fm, label='MAP', color=clap)\n",
    "    ax.fill_between(x[:, 0], fm+fstd, fm-fstd, alpha=0.3, color=clap)\n",
    "    ax.annotate('$\\delta={delta:.2f}$'.format(delta=deltas[i]), xy=(-2.5, 1))\n",
    "    ax.set_xlabel('x')\n",
    "\n",
    "    plt.tight_layout()\n",
    "    plt.savefig('figures/marglik_delta_newtoy_fits.pdf')"
   ]
  },
  {
   "cell_type": "code",
   "execution_count": null,
   "metadata": {},
   "outputs": [],
   "source": [
    "produce_paper_toy_plots('newtoy')"
   ]
  },
  {
   "cell_type": "markdown",
   "metadata": {},
   "source": [
    "## Boston Housing Dataset\n",
    "We decided to reproduce results produced in the figure 6 of the paper (UCI Dataset) on another dataset, the Boston Housing Dataset. We obtain less satisfying results than the ones obtained on the UCI dataset (Figure 6 in the paper). We did not have the time to tune the parameters to have a lower MSE, but we see that chosen optimal hyperparameters remain close."
   ]
  },
  {
   "cell_type": "markdown",
   "metadata": {},
   "source": [
    "### Results"
   ]
  },
  {
   "cell_type": "code",
   "execution_count": 58,
   "metadata": {
    "ExecuteTime": {
     "end_time": "2021-03-16T18:52:49.482315Z",
     "start_time": "2021-03-16T18:52:49.425421Z"
    }
   },
   "outputs": [],
   "source": [
    "def get_boston_dataset(dataset_name):\n",
    "    data_path = os.path.join(vadam.__path__[0], 'data')\n",
    "    ds = []\n",
    "    for i in range(20):\n",
    "        dataset = Dataset(data_set=dataset_name + str(i), data_folder=data_path)\n",
    "        x_train, y_train = dataset.load_full_train_set(use_cuda=False)\n",
    "        x_test, y_test = dataset.load_full_test_set(use_cuda=False)\n",
    "        y_train = y_train.unsqueeze(1).double().numpy()\n",
    "        y_test = y_test.unsqueeze(1).double().numpy()\n",
    "        x_train = x_train.double().numpy()\n",
    "        x_test = x_test.double().numpy()\n",
    "        scl = StandardScaler(copy=False)\n",
    "        scl.fit_transform(x_train)\n",
    "        scl.transform(x_test)\n",
    "        y_scl = StandardScaler(copy=False)\n",
    "        y_scl.fit_transform(y_train)\n",
    "        y_scl.transform(y_test)\n",
    "        ds.append((None, None, x_train, y_train.squeeze(), x_test, y_test.squeeze(), y_scl.scale_[0]))\n",
    "    return ds\n",
    "\n",
    "def compute_marglik(delta, Ds, hidden_size, n_layers, sn, n_epochs=1000):\n",
    "    dres = {'fits': list(), 'mlh': list(), 'vimlh': list(), 'convimlh': list(),\n",
    "            'test_loss_map': list(), 'test_loss_lap': list(), 'test_loss_vi': list(),\n",
    "            'train_loss_map': list(), 'train_loss_lap': list(), 'train_loss_vi': list()}\n",
    "    for j, (x, y, x_train, y_train, x_test, y_test, y_scale) in enumerate(Ds):\n",
    "        print((delta, hidden_size, sn), '{}/{}'.format(j+1, len(Ds)))\n",
    "        primal_nn = NeuralNetworkRegression(x_train, y_train, delta, sigma_noise=sn, n_epochs=n_epochs,\n",
    "                                            hidden_size=hidden_size,\n",
    "                                            n_layers=n_layers, diagonal=True, n_samples_pred=1, step_size=0.05, lr_factor=0.8)\n",
    "        m_0, S_0 = np.zeros(primal_nn.d), 1 / delta * np.eye(primal_nn.d)\n",
    "        (Us, Ss), vs = primal_nn.UsSs('J'), primal_nn.vs('J')\n",
    "        x_hat, y_hat, s_noise = Us, Us @ primal_nn.theta_star - vs / Ss, 1 / np.sqrt(Ss)\n",
    "        dual_gp = DualGPRegression(x_hat, y_hat, s_noise, m_0, S_0=S_0, comp_post=True)\n",
    "        map_pred_train = primal_nn.predictive_map(x_train)\n",
    "        map_pred_test = primal_nn.predictive_map(x_test)\n",
    "        dres['mlh'].append(dual_gp.log_marginal_likelihood())\n",
    "        dres['test_loss_map'].append(y_scale**2 * mean_squared_error(y_test, map_pred_test))\n",
    "        dres['train_loss_map'].append(y_scale**2 * mean_squared_error(y_train, map_pred_train))\n",
    "    return dres\n",
    "\n",
    "def reg_ms_delta(hidden_size=20, n_layers=3, n_params=50, fname=''):\n",
    "    sn = 0.64\n",
    "    n_epochs = 1000\n",
    "    Ds = get_boston_dataset('boston')\n",
    "    deltas = list(np.logspace(-1, 3.6, n_params))\n",
    "    res = {'datasets': Ds, 'params': deltas}\n",
    "    parameters = [(delta, datasets, hidden_size, n_layers, sn, n_epochs) for delta, datasets in\n",
    "                  zip(deltas, repeat(Ds))]\n",
    "    with Pool(processes=mp.cpu_count()-1) as p:\n",
    "        metric_results = tqdm(p.starmap(compute_marglik, parameters), total=len(deltas))\n",
    "\n",
    "    res['results'] = list(metric_results)\n",
    "\n",
    "    with open('results/reg_ms_delta_VI_{fname}.pkl'.format(fname=fname), 'wb') as f:\n",
    "        pickle.dump(res, f)\n",
    "    return res"
   ]
  },
  {
   "cell_type": "code",
   "execution_count": 61,
   "metadata": {
    "ExecuteTime": {
     "end_time": "2021-03-16T18:58:34.473364Z",
     "start_time": "2021-03-16T18:53:19.385169Z"
    },
    "collapsed": true
   },
   "outputs": [
    {
     "name": "stdout",
     "output_type": "stream",
     "text": [
      "(0.1, 20, 0.64) 1/20\n",
      "1/20(0.15408313356160552, 20, 0.64) "
     ]
    },
    {
     "name": "stderr",
     "output_type": "stream",
     "text": [
      "/Users/milou/Desktop/MVA/Bayesian/project/dnn2gp/dnn2gp/vogn.py:117: UserWarning: This overload of addcdiv is deprecated:\n",
      "\taddcdiv(Tensor input, Number value, Tensor tensor1, Tensor tensor2, *, Tensor out)\n",
      "Consider using one of the following signatures instead:\n",
      "\taddcdiv(Tensor input, Tensor tensor1, Tensor tensor2, *, Number value, Tensor out) (Triggered internally at  ../torch/csrc/utils/python_arg_parser.cpp:1005.)\n",
      "  p = torch.addcdiv(mu, 1., raw_noise, torch.sqrt(precision))\n"
     ]
    },
    {
     "name": "stdout",
     "output_type": "stream",
     "text": [
      "\n",
      "(0.23741612048163563, 20, 0.64) "
     ]
    },
    {
     "name": "stderr",
     "output_type": "stream",
     "text": [
      "/Users/milou/Desktop/MVA/Bayesian/project/dnn2gp/dnn2gp/vogn.py:117: UserWarning: This overload of addcdiv is deprecated:\n",
      "\taddcdiv(Tensor input, Number value, Tensor tensor1, Tensor tensor2, *, Tensor out)\n",
      "Consider using one of the following signatures instead:\n",
      "\taddcdiv(Tensor input, Tensor tensor1, Tensor tensor2, *, Number value, Tensor out) (Triggered internally at  ../torch/csrc/utils/python_arg_parser.cpp:1005.)\n",
      "  p = torch.addcdiv(mu, 1., raw_noise, torch.sqrt(precision))\n"
     ]
    },
    {
     "name": "stdout",
     "output_type": "stream",
     "text": [
      "1/20\n",
      "(0.3658181980185008, 20, 0.64)"
     ]
    },
    {
     "name": "stderr",
     "output_type": "stream",
     "text": [
      "/Users/milou/Desktop/MVA/Bayesian/project/dnn2gp/dnn2gp/vogn.py:117: UserWarning: This overload of addcdiv is deprecated:\n",
      "\taddcdiv(Tensor input, Number value, Tensor tensor1, Tensor tensor2, *, Tensor out)\n",
      "Consider using one of the following signatures instead:\n",
      "\taddcdiv(Tensor input, Tensor tensor1, Tensor tensor2, *, Number value, Tensor out) (Triggered internally at  ../torch/csrc/utils/python_arg_parser.cpp:1005.)\n",
      "  p = torch.addcdiv(mu, 1., raw_noise, torch.sqrt(precision))\n"
     ]
    },
    {
     "name": "stdout",
     "output_type": "stream",
     "text": [
      " 1/20\n",
      "(0.5636641426455052, 20, 0.64)"
     ]
    },
    {
     "name": "stderr",
     "output_type": "stream",
     "text": [
      "/Users/milou/Desktop/MVA/Bayesian/project/dnn2gp/dnn2gp/vogn.py:117: UserWarning: This overload of addcdiv is deprecated:\n",
      "\taddcdiv(Tensor input, Number value, Tensor tensor1, Tensor tensor2, *, Tensor out)\n",
      "Consider using one of the following signatures instead:\n",
      "\taddcdiv(Tensor input, Tensor tensor1, Tensor tensor2, *, Number value, Tensor out) (Triggered internally at  ../torch/csrc/utils/python_arg_parser.cpp:1005.)\n",
      "  p = torch.addcdiv(mu, 1., raw_noise, torch.sqrt(precision))\n"
     ]
    },
    {
     "name": "stdout",
     "output_type": "stream",
     "text": [
      " 1/20\n",
      "(0.8685113737513525, 20, 0.64) 1/20"
     ]
    },
    {
     "name": "stderr",
     "output_type": "stream",
     "text": [
      "/Users/milou/Desktop/MVA/Bayesian/project/dnn2gp/dnn2gp/vogn.py:117: UserWarning: This overload of addcdiv is deprecated:\n",
      "\taddcdiv(Tensor input, Number value, Tensor tensor1, Tensor tensor2, *, Tensor out)\n",
      "Consider using one of the following signatures instead:\n",
      "\taddcdiv(Tensor input, Tensor tensor1, Tensor tensor2, *, Number value, Tensor out) (Triggered internally at  ../torch/csrc/utils/python_arg_parser.cpp:1005.)\n",
      "  p = torch.addcdiv(mu, 1., raw_noise, torch.sqrt(precision))\n"
     ]
    },
    {
     "name": "stdout",
     "output_type": "stream",
     "text": [
      "\n",
      "(1.3382295400150308, 20, 0.64)"
     ]
    },
    {
     "name": "stderr",
     "output_type": "stream",
     "text": [
      "/Users/milou/Desktop/MVA/Bayesian/project/dnn2gp/dnn2gp/vogn.py:117: UserWarning: This overload of addcdiv is deprecated:\n",
      "\taddcdiv(Tensor input, Number value, Tensor tensor1, Tensor tensor2, *, Tensor out)\n",
      "Consider using one of the following signatures instead:\n",
      "\taddcdiv(Tensor input, Tensor tensor1, Tensor tensor2, *, Number value, Tensor out) (Triggered internally at  ../torch/csrc/utils/python_arg_parser.cpp:1005.)\n",
      "  p = torch.addcdiv(mu, 1., raw_noise, torch.sqrt(precision))\n"
     ]
    },
    {
     "name": "stdout",
     "output_type": "stream",
     "text": [
      " 1/20\n"
     ]
    },
    {
     "name": "stderr",
     "output_type": "stream",
     "text": [
      "/Users/milou/Desktop/MVA/Bayesian/project/dnn2gp/dnn2gp/vogn.py:117: UserWarning: This overload of addcdiv is deprecated:\n",
      "\taddcdiv(Tensor input, Number value, Tensor tensor1, Tensor tensor2, *, Tensor out)\n",
      "Consider using one of the following signatures instead:\n",
      "\taddcdiv(Tensor input, Tensor tensor1, Tensor tensor2, *, Number value, Tensor out) (Triggered internally at  ../torch/csrc/utils/python_arg_parser.cpp:1005.)\n",
      "  p = torch.addcdiv(mu, 1., raw_noise, torch.sqrt(precision))\n",
      "Process ForkPoolWorker-46:\n",
      "Process ForkPoolWorker-47:\n",
      "Process ForkPoolWorker-45:\n",
      "Process ForkPoolWorker-48:\n",
      "Process ForkPoolWorker-49:\n",
      "Process ForkPoolWorker-44:\n",
      "Process ForkPoolWorker-43:\n"
     ]
    },
    {
     "ename": "KeyboardInterrupt",
     "evalue": "",
     "output_type": "error",
     "traceback": [
      "\u001b[0;31m---------------------------------------------------------------------------\u001b[0m",
      "\u001b[0;31mKeyboardInterrupt\u001b[0m                         Traceback (most recent call last)",
      "\u001b[0;32m<ipython-input-61-7f24e3dc29b5>\u001b[0m in \u001b[0;36m<module>\u001b[0;34m\u001b[0m\n\u001b[0;32m----> 1\u001b[0;31m \u001b[0mreg_ms_delta\u001b[0m\u001b[0;34m(\u001b[0m\u001b[0mhidden_size\u001b[0m\u001b[0;34m=\u001b[0m\u001b[0;36m20\u001b[0m\u001b[0;34m,\u001b[0m \u001b[0mn_layers\u001b[0m\u001b[0;34m=\u001b[0m\u001b[0;36m3\u001b[0m\u001b[0;34m,\u001b[0m \u001b[0mn_params\u001b[0m\u001b[0;34m=\u001b[0m\u001b[0;36m50\u001b[0m\u001b[0;34m,\u001b[0m \u001b[0mfname\u001b[0m\u001b[0;34m=\u001b[0m\u001b[0;34m'boston'\u001b[0m\u001b[0;34m)\u001b[0m\u001b[0;34m\u001b[0m\u001b[0;34m\u001b[0m\u001b[0m\n\u001b[0m",
      "\u001b[0;32m<ipython-input-58-173b8d2be110>\u001b[0m in \u001b[0;36mreg_ms_delta\u001b[0;34m(hidden_size, n_layers, n_params, fname)\u001b[0m\n\u001b[1;32m     50\u001b[0m                   zip(deltas, repeat(Ds))]\n\u001b[1;32m     51\u001b[0m     \u001b[0;32mwith\u001b[0m \u001b[0mPool\u001b[0m\u001b[0;34m(\u001b[0m\u001b[0mprocesses\u001b[0m\u001b[0;34m=\u001b[0m\u001b[0mmp\u001b[0m\u001b[0;34m.\u001b[0m\u001b[0mcpu_count\u001b[0m\u001b[0;34m(\u001b[0m\u001b[0;34m)\u001b[0m\u001b[0;34m-\u001b[0m\u001b[0;36m1\u001b[0m\u001b[0;34m)\u001b[0m \u001b[0;32mas\u001b[0m \u001b[0mp\u001b[0m\u001b[0;34m:\u001b[0m\u001b[0;34m\u001b[0m\u001b[0;34m\u001b[0m\u001b[0m\n\u001b[0;32m---> 52\u001b[0;31m         \u001b[0mmetric_results\u001b[0m \u001b[0;34m=\u001b[0m \u001b[0mtqdm\u001b[0m\u001b[0;34m(\u001b[0m\u001b[0mp\u001b[0m\u001b[0;34m.\u001b[0m\u001b[0mstarmap\u001b[0m\u001b[0;34m(\u001b[0m\u001b[0mcompute_marglik\u001b[0m\u001b[0;34m,\u001b[0m \u001b[0mparameters\u001b[0m\u001b[0;34m)\u001b[0m\u001b[0;34m,\u001b[0m \u001b[0mtotal\u001b[0m\u001b[0;34m=\u001b[0m\u001b[0mlen\u001b[0m\u001b[0;34m(\u001b[0m\u001b[0mdeltas\u001b[0m\u001b[0;34m)\u001b[0m\u001b[0;34m)\u001b[0m\u001b[0;34m\u001b[0m\u001b[0;34m\u001b[0m\u001b[0m\n\u001b[0m\u001b[1;32m     53\u001b[0m \u001b[0;34m\u001b[0m\u001b[0m\n\u001b[1;32m     54\u001b[0m     \u001b[0mres\u001b[0m\u001b[0;34m[\u001b[0m\u001b[0;34m'results'\u001b[0m\u001b[0;34m]\u001b[0m \u001b[0;34m=\u001b[0m \u001b[0mlist\u001b[0m\u001b[0;34m(\u001b[0m\u001b[0mmetric_results\u001b[0m\u001b[0;34m)\u001b[0m\u001b[0;34m\u001b[0m\u001b[0;34m\u001b[0m\u001b[0m\n",
      "\u001b[0;32m/opt/anaconda3/envs/bml-3.8/lib/python3.8/site-packages/multiprocess/pool.py\u001b[0m in \u001b[0;36mstarmap\u001b[0;34m(self, func, iterable, chunksize)\u001b[0m\n\u001b[1;32m    370\u001b[0m         \u001b[0;31m`\u001b[0m\u001b[0mfunc\u001b[0m\u001b[0;31m`\u001b[0m \u001b[0;32mand\u001b[0m \u001b[0;34m(\u001b[0m\u001b[0ma\u001b[0m\u001b[0;34m,\u001b[0m \u001b[0mb\u001b[0m\u001b[0;34m)\u001b[0m \u001b[0mbecomes\u001b[0m \u001b[0mfunc\u001b[0m\u001b[0;34m(\u001b[0m\u001b[0ma\u001b[0m\u001b[0;34m,\u001b[0m \u001b[0mb\u001b[0m\u001b[0;34m)\u001b[0m\u001b[0;34m.\u001b[0m\u001b[0;34m\u001b[0m\u001b[0;34m\u001b[0m\u001b[0m\n\u001b[1;32m    371\u001b[0m         '''\n\u001b[0;32m--> 372\u001b[0;31m         \u001b[0;32mreturn\u001b[0m \u001b[0mself\u001b[0m\u001b[0;34m.\u001b[0m\u001b[0m_map_async\u001b[0m\u001b[0;34m(\u001b[0m\u001b[0mfunc\u001b[0m\u001b[0;34m,\u001b[0m \u001b[0miterable\u001b[0m\u001b[0;34m,\u001b[0m \u001b[0mstarmapstar\u001b[0m\u001b[0;34m,\u001b[0m \u001b[0mchunksize\u001b[0m\u001b[0;34m)\u001b[0m\u001b[0;34m.\u001b[0m\u001b[0mget\u001b[0m\u001b[0;34m(\u001b[0m\u001b[0;34m)\u001b[0m\u001b[0;34m\u001b[0m\u001b[0;34m\u001b[0m\u001b[0m\n\u001b[0m\u001b[1;32m    373\u001b[0m \u001b[0;34m\u001b[0m\u001b[0m\n\u001b[1;32m    374\u001b[0m     def starmap_async(self, func, iterable, chunksize=None, callback=None,\n",
      "\u001b[0;32m/opt/anaconda3/envs/bml-3.8/lib/python3.8/site-packages/multiprocess/pool.py\u001b[0m in \u001b[0;36mget\u001b[0;34m(self, timeout)\u001b[0m\n\u001b[1;32m    763\u001b[0m \u001b[0;34m\u001b[0m\u001b[0m\n\u001b[1;32m    764\u001b[0m     \u001b[0;32mdef\u001b[0m \u001b[0mget\u001b[0m\u001b[0;34m(\u001b[0m\u001b[0mself\u001b[0m\u001b[0;34m,\u001b[0m \u001b[0mtimeout\u001b[0m\u001b[0;34m=\u001b[0m\u001b[0;32mNone\u001b[0m\u001b[0;34m)\u001b[0m\u001b[0;34m:\u001b[0m\u001b[0;34m\u001b[0m\u001b[0;34m\u001b[0m\u001b[0m\n\u001b[0;32m--> 765\u001b[0;31m         \u001b[0mself\u001b[0m\u001b[0;34m.\u001b[0m\u001b[0mwait\u001b[0m\u001b[0;34m(\u001b[0m\u001b[0mtimeout\u001b[0m\u001b[0;34m)\u001b[0m\u001b[0;34m\u001b[0m\u001b[0;34m\u001b[0m\u001b[0m\n\u001b[0m\u001b[1;32m    766\u001b[0m         \u001b[0;32mif\u001b[0m \u001b[0;32mnot\u001b[0m \u001b[0mself\u001b[0m\u001b[0;34m.\u001b[0m\u001b[0mready\u001b[0m\u001b[0;34m(\u001b[0m\u001b[0;34m)\u001b[0m\u001b[0;34m:\u001b[0m\u001b[0;34m\u001b[0m\u001b[0;34m\u001b[0m\u001b[0m\n\u001b[1;32m    767\u001b[0m             \u001b[0;32mraise\u001b[0m \u001b[0mTimeoutError\u001b[0m\u001b[0;34m\u001b[0m\u001b[0;34m\u001b[0m\u001b[0m\n",
      "\u001b[0;32m/opt/anaconda3/envs/bml-3.8/lib/python3.8/site-packages/multiprocess/pool.py\u001b[0m in \u001b[0;36mwait\u001b[0;34m(self, timeout)\u001b[0m\n\u001b[1;32m    760\u001b[0m \u001b[0;34m\u001b[0m\u001b[0m\n\u001b[1;32m    761\u001b[0m     \u001b[0;32mdef\u001b[0m \u001b[0mwait\u001b[0m\u001b[0;34m(\u001b[0m\u001b[0mself\u001b[0m\u001b[0;34m,\u001b[0m \u001b[0mtimeout\u001b[0m\u001b[0;34m=\u001b[0m\u001b[0;32mNone\u001b[0m\u001b[0;34m)\u001b[0m\u001b[0;34m:\u001b[0m\u001b[0;34m\u001b[0m\u001b[0;34m\u001b[0m\u001b[0m\n\u001b[0;32m--> 762\u001b[0;31m         \u001b[0mself\u001b[0m\u001b[0;34m.\u001b[0m\u001b[0m_event\u001b[0m\u001b[0;34m.\u001b[0m\u001b[0mwait\u001b[0m\u001b[0;34m(\u001b[0m\u001b[0mtimeout\u001b[0m\u001b[0;34m)\u001b[0m\u001b[0;34m\u001b[0m\u001b[0;34m\u001b[0m\u001b[0m\n\u001b[0m\u001b[1;32m    763\u001b[0m \u001b[0;34m\u001b[0m\u001b[0m\n\u001b[1;32m    764\u001b[0m     \u001b[0;32mdef\u001b[0m \u001b[0mget\u001b[0m\u001b[0;34m(\u001b[0m\u001b[0mself\u001b[0m\u001b[0;34m,\u001b[0m \u001b[0mtimeout\u001b[0m\u001b[0;34m=\u001b[0m\u001b[0;32mNone\u001b[0m\u001b[0;34m)\u001b[0m\u001b[0;34m:\u001b[0m\u001b[0;34m\u001b[0m\u001b[0;34m\u001b[0m\u001b[0m\n",
      "\u001b[0;32m/opt/anaconda3/envs/bml-3.8/lib/python3.8/threading.py\u001b[0m in \u001b[0;36mwait\u001b[0;34m(self, timeout)\u001b[0m\n\u001b[1;32m    556\u001b[0m             \u001b[0msignaled\u001b[0m \u001b[0;34m=\u001b[0m \u001b[0mself\u001b[0m\u001b[0;34m.\u001b[0m\u001b[0m_flag\u001b[0m\u001b[0;34m\u001b[0m\u001b[0;34m\u001b[0m\u001b[0m\n\u001b[1;32m    557\u001b[0m             \u001b[0;32mif\u001b[0m \u001b[0;32mnot\u001b[0m \u001b[0msignaled\u001b[0m\u001b[0;34m:\u001b[0m\u001b[0;34m\u001b[0m\u001b[0;34m\u001b[0m\u001b[0m\n\u001b[0;32m--> 558\u001b[0;31m                 \u001b[0msignaled\u001b[0m \u001b[0;34m=\u001b[0m \u001b[0mself\u001b[0m\u001b[0;34m.\u001b[0m\u001b[0m_cond\u001b[0m\u001b[0;34m.\u001b[0m\u001b[0mwait\u001b[0m\u001b[0;34m(\u001b[0m\u001b[0mtimeout\u001b[0m\u001b[0;34m)\u001b[0m\u001b[0;34m\u001b[0m\u001b[0;34m\u001b[0m\u001b[0m\n\u001b[0m\u001b[1;32m    559\u001b[0m             \u001b[0;32mreturn\u001b[0m \u001b[0msignaled\u001b[0m\u001b[0;34m\u001b[0m\u001b[0;34m\u001b[0m\u001b[0m\n\u001b[1;32m    560\u001b[0m \u001b[0;34m\u001b[0m\u001b[0m\n",
      "\u001b[0;32m/opt/anaconda3/envs/bml-3.8/lib/python3.8/threading.py\u001b[0m in \u001b[0;36mwait\u001b[0;34m(self, timeout)\u001b[0m\n\u001b[1;32m    300\u001b[0m         \u001b[0;32mtry\u001b[0m\u001b[0;34m:\u001b[0m    \u001b[0;31m# restore state no matter what (e.g., KeyboardInterrupt)\u001b[0m\u001b[0;34m\u001b[0m\u001b[0;34m\u001b[0m\u001b[0m\n\u001b[1;32m    301\u001b[0m             \u001b[0;32mif\u001b[0m \u001b[0mtimeout\u001b[0m \u001b[0;32mis\u001b[0m \u001b[0;32mNone\u001b[0m\u001b[0;34m:\u001b[0m\u001b[0;34m\u001b[0m\u001b[0;34m\u001b[0m\u001b[0m\n\u001b[0;32m--> 302\u001b[0;31m                 \u001b[0mwaiter\u001b[0m\u001b[0;34m.\u001b[0m\u001b[0macquire\u001b[0m\u001b[0;34m(\u001b[0m\u001b[0;34m)\u001b[0m\u001b[0;34m\u001b[0m\u001b[0;34m\u001b[0m\u001b[0m\n\u001b[0m\u001b[1;32m    303\u001b[0m                 \u001b[0mgotit\u001b[0m \u001b[0;34m=\u001b[0m \u001b[0;32mTrue\u001b[0m\u001b[0;34m\u001b[0m\u001b[0;34m\u001b[0m\u001b[0m\n\u001b[1;32m    304\u001b[0m             \u001b[0;32melse\u001b[0m\u001b[0;34m:\u001b[0m\u001b[0;34m\u001b[0m\u001b[0;34m\u001b[0m\u001b[0m\n",
      "\u001b[0;31mKeyboardInterrupt\u001b[0m: "
     ]
    }
   ],
   "source": [
    "reg_ms_delta(hidden_size=20, n_layers=3, n_params=50, fname='boston')"
   ]
  },
  {
   "cell_type": "markdown",
   "metadata": {},
   "source": [
    "### Plots"
   ]
  },
  {
   "cell_type": "code",
   "execution_count": 95,
   "metadata": {
    "ExecuteTime": {
     "end_time": "2021-03-16T19:08:24.619075Z",
     "start_time": "2021-03-16T19:08:24.605356Z"
    }
   },
   "outputs": [],
   "source": [
    "def produce_paper_uci_plots(name):\n",
    "    pnames = [ 'delta',]\n",
    "    ylims = [[0, 50]]\n",
    "    xlabels = [ r'hyperparameter delta']\n",
    "    legend_locs = [(0.0, 0.64)]\n",
    "    for pname, ylim, xlabel, legend_loc in zip(pnames, ylims, xlabels, legend_locs):\n",
    "        with open('results/reg_ms_{}_{}.pkl'.format(pname, name), 'rb') as f:\n",
    "            res = pickle.load(f)\n",
    "\n",
    "        mlhs = np.array([res['results'][i]['mlh'] for i in range(len(res['params']))])\n",
    "        testmap = np.array([res['results'][i]['test_loss_map'] for i in range(len(res['params']))])\n",
    "        trainmap = np.array([res['results'][i]['train_loss_map'] for i in range(len(res['params']))])\n",
    "\n",
    "        n = len(res['datasets'])\n",
    "        div = np.sqrt(n)\n",
    "\n",
    "        params = np.array(res['params'])\n",
    "\n",
    "        fig, ax1 = plt.subplots(figsize=(4.9, 4.0))\n",
    "\n",
    "        ax1.set_xscale('log')\n",
    "        ax1.plot(params, trainmap.mean(axis=1), label='train loss', linestyle='--', c=train, zorder=1)\n",
    "        ax1.plot(params, testmap.mean(axis=1), label='test loss', linestyle='-', c=test, zorder=1)\n",
    "        testlosses = testmap.mean(axis=1)\n",
    "\n",
    "        m, s = trainmap.mean(axis=1), trainmap.std(axis=1)/div\n",
    "        ax1.fill_between(params, m-s, m+s, color='gray', alpha=0.15)\n",
    "        m, s = testmap.mean(axis=1), testmap.std(axis=1)/div\n",
    "        ax1.fill_between(params, m-s, m+s, color='gray', alpha=0.15)\n",
    "        ax1.legend(loc=(legend_loc[0], legend_loc[1] + 0.11))\n",
    "        ax1.set_ylabel('MSE')\n",
    "        ax1.set_ylim(ylim)\n",
    "        ax1.set_xlabel(xlabel)\n",
    "\n",
    "        ax2 = ax1.twinx()\n",
    "\n",
    "        col = ax1._get_lines.get_next_color()\n",
    "        col = ax1._get_lines.get_next_color()\n",
    "        ax2.set_xscale('log')\n",
    "        ax2.plot(params, -mlhs.mean(axis=1), color=clap, label='Train MargLik', linewidth=3, zorder=1)\n",
    "        m, s = -mlhs.mean(axis=1), -mlhs.std(axis=1)/div\n",
    "        ax2.fill_between(params, m-s, m+s, color=clap, alpha=0.15)\n",
    "        lhss = -mlhs.mean(axis=1)\n",
    "        ax2.grid(False)\n",
    "\n",
    "        ax1.scatter([params[np.argmin(testlosses)]], [np.min(testlosses)], c='black', marker='*', linewidth=4, zorder=2)\n",
    "        ax2.scatter([params[np.argmin(lhss)]], [np.min(lhss)], c='black', marker='*', linewidth=4, zorder=2)\n",
    "        gen_loss = np.abs(testmap.mean(axis=1) - trainmap.mean(axis=1))\n",
    "        ix = np.argmin(gen_loss)\n",
    "        # ax2.scatter([widths[ix]], [testmap.mean(axis=1)[ix]], c='black', marker='*', linewidth=4, zorder=2)\n",
    "\n",
    "        ax2.legend(loc=legend_loc)\n",
    "        ax2.set_ylabel('-log marginal likelihood')\n",
    "        ax2.yaxis.tick_right()\n",
    "        ax2.yaxis.set_label_position(\"right\")\n",
    "        # ax2.set_ylim(ylim)\n",
    "        plt.tight_layout()\n",
    "\n",
    "        plt.savefig('figures/marglik_{}_{}_boston_laplace.pdf'.format(pname, name))"
   ]
  },
  {
   "cell_type": "code",
   "execution_count": 96,
   "metadata": {
    "ExecuteTime": {
     "end_time": "2021-03-16T19:08:27.106577Z",
     "start_time": "2021-03-16T19:08:26.589023Z"
    }
   },
   "outputs": [
    {
     "data": {
      "image/png": "[encoded data removed]",
      "text/plain": [
       "<Figure size 352.8x288 with 2 Axes>"
      ]
     },
     "metadata": {},
     "output_type": "display_data"
    }
   ],
   "source": [
    "test = 'black'\n",
    "train = 'darkgray'\n",
    "\n",
    "plt.style.use('seaborn-white')\n",
    "sns.set_style('whitegrid')\n",
    "plt.rcParams['font.size'] = 16\n",
    "plt.rcParams['font.style'] = 'normal'\n",
    "plt.rcParams['font.family'] = 'sans-serif'\n",
    "#plt.rc('text', usetex=True)\n",
    "bmap = brewer2mpl.get_map('Set1', 'qualitative', 6)\n",
    "colors = bmap.mpl_colors\n",
    "\n",
    "vlap = colors[1]\n",
    "clap = colors[0]\n",
    "test = 'black'\n",
    "train = 'darkgray'\n",
    "\n",
    "produce_paper_uci_plots('boston')"
   ]
  }
 ],
 "metadata": {
  "kernelspec": {
   "display_name": "bml-3.8",
   "language": "python",
   "name": "bml-3.8"
  },
  "language_info": {
   "codemirror_mode": {
    "name": "ipython",
    "version": 3
   },
   "file_extension": ".py",
   "mimetype": "text/x-python",
   "name": "python",
   "nbconvert_exporter": "python",
   "pygments_lexer": "ipython3",
   "version": "3.8.8"
  },
  "toc": {
   "base_numbering": 1,
   "nav_menu": {},
   "number_sections": true,
   "sideBar": true,
   "skip_h1_title": false,
   "title_cell": "Table of Contents",
   "title_sidebar": "Contents",
   "toc_cell": false,
   "toc_position": {},
   "toc_section_display": true,
   "toc_window_display": true
  },
  "varInspector": {
   "cols": {
    "lenName": 16,
    "lenType": 16,
    "lenVar": 40
   },
   "kernels_config": {
    "python": {
     "delete_cmd_postfix": "",
     "delete_cmd_prefix": "del ",
     "library": "var_list.py",
     "varRefreshCmd": "print(var_dic_list())"
    },
    "r": {
     "delete_cmd_postfix": ") ",
     "delete_cmd_prefix": "rm(",
     "library": "var_list.r",
     "varRefreshCmd": "cat(var_dic_list()) "
    }
   },
   "types_to_exclude": [
    "module",
    "function",
    "builtin_function_or_method",
    "instance",
    "_Feature"
   ],
   "window_display": false
  }
 },
 "nbformat": 4,
 "nbformat_minor": 4
}
